{
 "cells": [
  {
   "cell_type": "code",
   "execution_count": 54,
   "id": "4771e5f5",
   "metadata": {},
   "outputs": [],
   "source": [
    "import boto3\n",
    "from datetime import datetime"
   ]
  },
  {
   "cell_type": "code",
   "execution_count": 55,
   "id": "4af03bf9",
   "metadata": {},
   "outputs": [],
   "source": [
    "today = datetime.today()"
   ]
  },
  {
   "cell_type": "code",
   "execution_count": 56,
   "id": "70d823c0",
   "metadata": {},
   "outputs": [],
   "source": [
    "todays_date = today.strftime(\"%Y-%m-%d\")"
   ]
  },
  {
   "cell_type": "code",
   "execution_count": 57,
   "id": "184ee5d6",
   "metadata": {},
   "outputs": [],
   "source": [
    "s3_client = boto3.client('s3')"
   ]
  },
  {
   "cell_type": "code",
   "execution_count": 58,
   "id": "53a582d9",
   "metadata": {},
   "outputs": [],
   "source": [
    "bucket_name = 'ly-organize-s3-objects'"
   ]
  },
  {
   "cell_type": "code",
   "execution_count": 59,
   "id": "20bb4651",
   "metadata": {},
   "outputs": [],
   "source": [
    "list_buckets_response = s3_client.list_objects_v2(\n",
    "    Bucket=bucket_name\n",
    ")"
   ]
  },
  {
   "cell_type": "code",
   "execution_count": 60,
   "id": "1c48041f",
   "metadata": {},
   "outputs": [],
   "source": [
    "get_contents = list_buckets_response.get('Contents')"
   ]
  },
  {
   "cell_type": "code",
   "execution_count": 61,
   "id": "bbc9c422",
   "metadata": {},
   "outputs": [],
   "source": [
    "get_all_s3_object_and_folder_names = []\n",
    "\n",
    "for item in get_contents:\n",
    "    s3_object_name = item.get('Key')\n",
    "    \n",
    "    get_all_s3_object_and_folder_names.append(s3_object_name)\n"
   ]
  },
  {
   "cell_type": "code",
   "execution_count": 62,
   "id": "c4a3026a",
   "metadata": {},
   "outputs": [],
   "source": [
    "directory_name = todays_date + '/'"
   ]
  },
  {
   "cell_type": "code",
   "execution_count": 63,
   "id": "6528d869",
   "metadata": {},
   "outputs": [],
   "source": [
    "if directory_name not in get_all_s3_object_and_folder_names:\n",
    "    s3_client.put_object(\n",
    "        Bucket=bucket_name,\n",
    "        Key=directory_name\n",
    "    )"
   ]
  },
  {
   "cell_type": "code",
   "execution_count": null,
   "id": "42ec0442",
   "metadata": {},
   "outputs": [],
   "source": [
    "for item in get_contents:\n",
    "    object_creation_date = item.get('LastModified').strftime(\"%Y-%m-%d\") + '/'\n",
    "    object_name = item.get('Key')\n",
    "    \n",
    "    if object_creation_date == directory_name and  \"/\" not in object_name:\n",
    "        \n",
    "        s3_client.copy_object(\n",
    "            Bucket=bucket_name,\n",
    "            CopySource=bucket_name+'/'+object_name,\n",
    "            Key=directory_name+object_name\n",
    "        )\n",
    "        \n",
    "        s3_client.delete_object(\n",
    "            Bucket=bucket_name,\n",
    "            Key=object_name\n",
    "        )\n",
    "    \n",
    "# This script organizes S3 objects by moving them into folders named with the current date.    "
   ]
  }
 ],
 "metadata": {
  "kernelspec": {
   "display_name": "Python 3",
   "language": "python",
   "name": "python3"
  },
  "language_info": {
   "codemirror_mode": {
    "name": "ipython",
    "version": 3
   },
   "file_extension": ".py",
   "mimetype": "text/x-python",
   "name": "python",
   "nbconvert_exporter": "python",
   "pygments_lexer": "ipython3",
   "version": "3.11.6"
  }
 },
 "nbformat": 4,
 "nbformat_minor": 5
}
